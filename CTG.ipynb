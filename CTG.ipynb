{
 "cells": [
  {
   "cell_type": "code",
   "execution_count": 2,
   "metadata": {},
   "outputs": [],
   "source": [
    "import pandas as pd\n",
    "import numpy as np"
   ]
  },
  {
   "cell_type": "code",
   "execution_count": 3,
   "metadata": {},
   "outputs": [],
   "source": [
    "ctg = pd.read_csv(r\"D:\\imarticus\\datasets\\CTG.csv\")"
   ]
  },
  {
   "cell_type": "code",
   "execution_count": 4,
   "metadata": {},
   "outputs": [
    {
     "data": {
      "text/html": [
       "<div>\n",
       "<style scoped>\n",
       "    .dataframe tbody tr th:only-of-type {\n",
       "        vertical-align: middle;\n",
       "    }\n",
       "\n",
       "    .dataframe tbody tr th {\n",
       "        vertical-align: top;\n",
       "    }\n",
       "\n",
       "    .dataframe thead th {\n",
       "        text-align: right;\n",
       "    }\n",
       "</style>\n",
       "<table border=\"1\" class=\"dataframe\">\n",
       "  <thead>\n",
       "    <tr style=\"text-align: right;\">\n",
       "      <th></th>\n",
       "      <th>LB</th>\n",
       "      <th>AC</th>\n",
       "      <th>FM</th>\n",
       "      <th>NSP</th>\n",
       "    </tr>\n",
       "  </thead>\n",
       "  <tbody>\n",
       "    <tr>\n",
       "      <th>0</th>\n",
       "      <td>120</td>\n",
       "      <td>0.000</td>\n",
       "      <td>0.0</td>\n",
       "      <td>2</td>\n",
       "    </tr>\n",
       "    <tr>\n",
       "      <th>1</th>\n",
       "      <td>132</td>\n",
       "      <td>0.006</td>\n",
       "      <td>0.0</td>\n",
       "      <td>1</td>\n",
       "    </tr>\n",
       "    <tr>\n",
       "      <th>2</th>\n",
       "      <td>133</td>\n",
       "      <td>0.003</td>\n",
       "      <td>0.0</td>\n",
       "      <td>1</td>\n",
       "    </tr>\n",
       "    <tr>\n",
       "      <th>3</th>\n",
       "      <td>134</td>\n",
       "      <td>0.003</td>\n",
       "      <td>0.0</td>\n",
       "      <td>1</td>\n",
       "    </tr>\n",
       "    <tr>\n",
       "      <th>4</th>\n",
       "      <td>132</td>\n",
       "      <td>0.007</td>\n",
       "      <td>0.0</td>\n",
       "      <td>1</td>\n",
       "    </tr>\n",
       "  </tbody>\n",
       "</table>\n",
       "</div>"
      ],
      "text/plain": [
       "    LB     AC   FM  NSP\n",
       "0  120  0.000  0.0    2\n",
       "1  132  0.006  0.0    1\n",
       "2  133  0.003  0.0    1\n",
       "3  134  0.003  0.0    1\n",
       "4  132  0.007  0.0    1"
      ]
     },
     "execution_count": 4,
     "metadata": {},
     "output_type": "execute_result"
    }
   ],
   "source": [
    "ctg.head()"
   ]
  },
  {
   "cell_type": "code",
   "execution_count": 5,
   "metadata": {},
   "outputs": [],
   "source": [
    "from sklearn.model_selection import train_test_split"
   ]
  },
  {
   "cell_type": "code",
   "execution_count": 6,
   "metadata": {},
   "outputs": [],
   "source": [
    "train,test = train_test_split(ctg,test_size =.2,random_state = 555)"
   ]
  },
  {
   "cell_type": "code",
   "execution_count": 7,
   "metadata": {},
   "outputs": [],
   "source": [
    "train_x = train.iloc[:,0:-1]\n",
    "train_y = train.iloc[:,-1]\n",
    "\n",
    "test_x = test.iloc[:,0:-1]\n",
    "test_y = test.iloc[:,-1]"
   ]
  },
  {
   "cell_type": "code",
   "execution_count": 8,
   "metadata": {},
   "outputs": [],
   "source": [
    "from sklearn.neighbors import KNeighborsClassifier"
   ]
  },
  {
   "cell_type": "code",
   "execution_count": 9,
   "metadata": {},
   "outputs": [],
   "source": [
    "knn = KNeighborsClassifier( n_neighbors= 75)"
   ]
  },
  {
   "cell_type": "code",
   "execution_count": 10,
   "metadata": {},
   "outputs": [
    {
     "data": {
      "text/plain": [
       "KNeighborsClassifier(n_neighbors=75)"
      ]
     },
     "execution_count": 10,
     "metadata": {},
     "output_type": "execute_result"
    }
   ],
   "source": [
    "knn.fit(train_x,train_y)"
   ]
  },
  {
   "cell_type": "code",
   "execution_count": 11,
   "metadata": {},
   "outputs": [],
   "source": [
    "knn_pred = knn.predict(test_x)"
   ]
  },
  {
   "cell_type": "code",
   "execution_count": 13,
   "metadata": {},
   "outputs": [],
   "source": [
    "from sklearn.metrics import confusion_matrix"
   ]
  },
  {
   "cell_type": "code",
   "execution_count": 14,
   "metadata": {},
   "outputs": [
    {
     "data": {
      "text/plain": [
       "array([[327,  43,  35],\n",
       "       [  6,  12,   3],\n",
       "       [  0,   0,   0]], dtype=int64)"
      ]
     },
     "execution_count": 14,
     "metadata": {},
     "output_type": "execute_result"
    }
   ],
   "source": [
    "tab_knn = confusion_matrix(knn_pred,test_y)\n",
    "tab_knn"
   ]
  },
  {
   "cell_type": "code",
   "execution_count": 15,
   "metadata": {},
   "outputs": [
    {
     "data": {
      "text/plain": [
       "79.5774647887324"
      ]
     },
     "execution_count": 15,
     "metadata": {},
     "output_type": "execute_result"
    }
   ],
   "source": [
    "acc = tab_knn.diagonal().sum()*100/tab_knn.sum()\n",
    "acc"
   ]
  },
  {
   "cell_type": "code",
   "execution_count": 16,
   "metadata": {},
   "outputs": [
    {
     "name": "stdout",
     "output_type": "stream",
     "text": [
      "[79.34]\n",
      "[79.34, 81.69]\n",
      "[79.34, 81.69, 82.39]\n",
      "[79.34, 81.69, 82.39, 83.57]\n",
      "[79.34, 81.69, 82.39, 83.57, 82.39]\n",
      "[79.34, 81.69, 82.39, 83.57, 82.39, 82.16]\n",
      "[79.34, 81.69, 82.39, 83.57, 82.39, 82.16, 82.63]\n",
      "[79.34, 81.69, 82.39, 83.57, 82.39, 82.16, 82.63, 82.39]\n",
      "[79.34, 81.69, 82.39, 83.57, 82.39, 82.16, 82.63, 82.39, 82.16]\n",
      "[79.34, 81.69, 82.39, 83.57, 82.39, 82.16, 82.63, 82.39, 82.16, 81.92]\n",
      "[79.34, 81.69, 82.39, 83.57, 82.39, 82.16, 82.63, 82.39, 82.16, 81.92, 81.46]\n",
      "[79.34, 81.69, 82.39, 83.57, 82.39, 82.16, 82.63, 82.39, 82.16, 81.92, 81.46, 81.69]\n",
      "[79.34, 81.69, 82.39, 83.57, 82.39, 82.16, 82.63, 82.39, 82.16, 81.92, 81.46, 81.69, 81.46]\n",
      "[79.34, 81.69, 82.39, 83.57, 82.39, 82.16, 82.63, 82.39, 82.16, 81.92, 81.46, 81.69, 81.46, 80.52]\n",
      "[79.34, 81.69, 82.39, 83.57, 82.39, 82.16, 82.63, 82.39, 82.16, 81.92, 81.46, 81.69, 81.46, 80.52, 80.52]\n",
      "[79.34, 81.69, 82.39, 83.57, 82.39, 82.16, 82.63, 82.39, 82.16, 81.92, 81.46, 81.69, 81.46, 80.52, 80.52, 80.75]\n",
      "[79.34, 81.69, 82.39, 83.57, 82.39, 82.16, 82.63, 82.39, 82.16, 81.92, 81.46, 81.69, 81.46, 80.52, 80.52, 80.75, 80.28]\n",
      "[79.34, 81.69, 82.39, 83.57, 82.39, 82.16, 82.63, 82.39, 82.16, 81.92, 81.46, 81.69, 81.46, 80.52, 80.52, 80.75, 80.28, 81.46]\n",
      "[79.34, 81.69, 82.39, 83.57, 82.39, 82.16, 82.63, 82.39, 82.16, 81.92, 81.46, 81.69, 81.46, 80.52, 80.52, 80.75, 80.28, 81.46, 81.69]\n",
      "[79.34, 81.69, 82.39, 83.57, 82.39, 82.16, 82.63, 82.39, 82.16, 81.92, 81.46, 81.69, 81.46, 80.52, 80.52, 80.75, 80.28, 81.46, 81.69, 81.46]\n",
      "[79.34, 81.69, 82.39, 83.57, 82.39, 82.16, 82.63, 82.39, 82.16, 81.92, 81.46, 81.69, 81.46, 80.52, 80.52, 80.75, 80.28, 81.46, 81.69, 81.46, 81.46]\n",
      "[79.34, 81.69, 82.39, 83.57, 82.39, 82.16, 82.63, 82.39, 82.16, 81.92, 81.46, 81.69, 81.46, 80.52, 80.52, 80.75, 80.28, 81.46, 81.69, 81.46, 81.46, 81.46]\n",
      "[79.34, 81.69, 82.39, 83.57, 82.39, 82.16, 82.63, 82.39, 82.16, 81.92, 81.46, 81.69, 81.46, 80.52, 80.52, 80.75, 80.28, 81.46, 81.69, 81.46, 81.46, 81.46, 80.99]\n",
      "[79.34, 81.69, 82.39, 83.57, 82.39, 82.16, 82.63, 82.39, 82.16, 81.92, 81.46, 81.69, 81.46, 80.52, 80.52, 80.75, 80.28, 81.46, 81.69, 81.46, 81.46, 81.46, 80.99, 80.99]\n",
      "[79.34, 81.69, 82.39, 83.57, 82.39, 82.16, 82.63, 82.39, 82.16, 81.92, 81.46, 81.69, 81.46, 80.52, 80.52, 80.75, 80.28, 81.46, 81.69, 81.46, 81.46, 81.46, 80.99, 80.99, 80.52]\n",
      "[79.34, 81.69, 82.39, 83.57, 82.39, 82.16, 82.63, 82.39, 82.16, 81.92, 81.46, 81.69, 81.46, 80.52, 80.52, 80.75, 80.28, 81.46, 81.69, 81.46, 81.46, 81.46, 80.99, 80.99, 80.52, 79.81]\n",
      "[79.34, 81.69, 82.39, 83.57, 82.39, 82.16, 82.63, 82.39, 82.16, 81.92, 81.46, 81.69, 81.46, 80.52, 80.52, 80.75, 80.28, 81.46, 81.69, 81.46, 81.46, 81.46, 80.99, 80.99, 80.52, 79.81, 80.28]\n",
      "[79.34, 81.69, 82.39, 83.57, 82.39, 82.16, 82.63, 82.39, 82.16, 81.92, 81.46, 81.69, 81.46, 80.52, 80.52, 80.75, 80.28, 81.46, 81.69, 81.46, 81.46, 81.46, 80.99, 80.99, 80.52, 79.81, 80.28, 80.52]\n",
      "[79.34, 81.69, 82.39, 83.57, 82.39, 82.16, 82.63, 82.39, 82.16, 81.92, 81.46, 81.69, 81.46, 80.52, 80.52, 80.75, 80.28, 81.46, 81.69, 81.46, 81.46, 81.46, 80.99, 80.99, 80.52, 79.81, 80.28, 80.52, 81.22]\n",
      "[79.34, 81.69, 82.39, 83.57, 82.39, 82.16, 82.63, 82.39, 82.16, 81.92, 81.46, 81.69, 81.46, 80.52, 80.52, 80.75, 80.28, 81.46, 81.69, 81.46, 81.46, 81.46, 80.99, 80.99, 80.52, 79.81, 80.28, 80.52, 81.22, 80.28]\n",
      "[79.34, 81.69, 82.39, 83.57, 82.39, 82.16, 82.63, 82.39, 82.16, 81.92, 81.46, 81.69, 81.46, 80.52, 80.52, 80.75, 80.28, 81.46, 81.69, 81.46, 81.46, 81.46, 80.99, 80.99, 80.52, 79.81, 80.28, 80.52, 81.22, 80.28, 80.28]\n",
      "[79.34, 81.69, 82.39, 83.57, 82.39, 82.16, 82.63, 82.39, 82.16, 81.92, 81.46, 81.69, 81.46, 80.52, 80.52, 80.75, 80.28, 81.46, 81.69, 81.46, 81.46, 81.46, 80.99, 80.99, 80.52, 79.81, 80.28, 80.52, 81.22, 80.28, 80.28, 80.28]\n",
      "[79.34, 81.69, 82.39, 83.57, 82.39, 82.16, 82.63, 82.39, 82.16, 81.92, 81.46, 81.69, 81.46, 80.52, 80.52, 80.75, 80.28, 81.46, 81.69, 81.46, 81.46, 81.46, 80.99, 80.99, 80.52, 79.81, 80.28, 80.52, 81.22, 80.28, 80.28, 80.28, 79.81]\n",
      "[79.34, 81.69, 82.39, 83.57, 82.39, 82.16, 82.63, 82.39, 82.16, 81.92, 81.46, 81.69, 81.46, 80.52, 80.52, 80.75, 80.28, 81.46, 81.69, 81.46, 81.46, 81.46, 80.99, 80.99, 80.52, 79.81, 80.28, 80.52, 81.22, 80.28, 80.28, 80.28, 79.81, 79.81]\n",
      "[79.34, 81.69, 82.39, 83.57, 82.39, 82.16, 82.63, 82.39, 82.16, 81.92, 81.46, 81.69, 81.46, 80.52, 80.52, 80.75, 80.28, 81.46, 81.69, 81.46, 81.46, 81.46, 80.99, 80.99, 80.52, 79.81, 80.28, 80.52, 81.22, 80.28, 80.28, 80.28, 79.81, 79.81, 79.81]\n",
      "[79.34, 81.69, 82.39, 83.57, 82.39, 82.16, 82.63, 82.39, 82.16, 81.92, 81.46, 81.69, 81.46, 80.52, 80.52, 80.75, 80.28, 81.46, 81.69, 81.46, 81.46, 81.46, 80.99, 80.99, 80.52, 79.81, 80.28, 80.52, 81.22, 80.28, 80.28, 80.28, 79.81, 79.81, 79.81, 79.34]\n",
      "[79.34, 81.69, 82.39, 83.57, 82.39, 82.16, 82.63, 82.39, 82.16, 81.92, 81.46, 81.69, 81.46, 80.52, 80.52, 80.75, 80.28, 81.46, 81.69, 81.46, 81.46, 81.46, 80.99, 80.99, 80.52, 79.81, 80.28, 80.52, 81.22, 80.28, 80.28, 80.28, 79.81, 79.81, 79.81, 79.34, 79.81]\n",
      "[79.34, 81.69, 82.39, 83.57, 82.39, 82.16, 82.63, 82.39, 82.16, 81.92, 81.46, 81.69, 81.46, 80.52, 80.52, 80.75, 80.28, 81.46, 81.69, 81.46, 81.46, 81.46, 80.99, 80.99, 80.52, 79.81, 80.28, 80.52, 81.22, 80.28, 80.28, 80.28, 79.81, 79.81, 79.81, 79.34, 79.81, 79.58]\n",
      "[79.34, 81.69, 82.39, 83.57, 82.39, 82.16, 82.63, 82.39, 82.16, 81.92, 81.46, 81.69, 81.46, 80.52, 80.52, 80.75, 80.28, 81.46, 81.69, 81.46, 81.46, 81.46, 80.99, 80.99, 80.52, 79.81, 80.28, 80.52, 81.22, 80.28, 80.28, 80.28, 79.81, 79.81, 79.81, 79.34, 79.81, 79.58, 79.81]\n",
      "[79.34, 81.69, 82.39, 83.57, 82.39, 82.16, 82.63, 82.39, 82.16, 81.92, 81.46, 81.69, 81.46, 80.52, 80.52, 80.75, 80.28, 81.46, 81.69, 81.46, 81.46, 81.46, 80.99, 80.99, 80.52, 79.81, 80.28, 80.52, 81.22, 80.28, 80.28, 80.28, 79.81, 79.81, 79.81, 79.34, 79.81, 79.58, 79.81, 79.81]\n",
      "[79.34, 81.69, 82.39, 83.57, 82.39, 82.16, 82.63, 82.39, 82.16, 81.92, 81.46, 81.69, 81.46, 80.52, 80.52, 80.75, 80.28, 81.46, 81.69, 81.46, 81.46, 81.46, 80.99, 80.99, 80.52, 79.81, 80.28, 80.52, 81.22, 80.28, 80.28, 80.28, 79.81, 79.81, 79.81, 79.34, 79.81, 79.58, 79.81, 79.81, 79.81]\n",
      "[79.34, 81.69, 82.39, 83.57, 82.39, 82.16, 82.63, 82.39, 82.16, 81.92, 81.46, 81.69, 81.46, 80.52, 80.52, 80.75, 80.28, 81.46, 81.69, 81.46, 81.46, 81.46, 80.99, 80.99, 80.52, 79.81, 80.28, 80.52, 81.22, 80.28, 80.28, 80.28, 79.81, 79.81, 79.81, 79.34, 79.81, 79.58, 79.81, 79.81, 79.81, 79.58]\n",
      "[79.34, 81.69, 82.39, 83.57, 82.39, 82.16, 82.63, 82.39, 82.16, 81.92, 81.46, 81.69, 81.46, 80.52, 80.52, 80.75, 80.28, 81.46, 81.69, 81.46, 81.46, 81.46, 80.99, 80.99, 80.52, 79.81, 80.28, 80.52, 81.22, 80.28, 80.28, 80.28, 79.81, 79.81, 79.81, 79.34, 79.81, 79.58, 79.81, 79.81, 79.81, 79.58, 79.81]\n",
      "[79.34, 81.69, 82.39, 83.57, 82.39, 82.16, 82.63, 82.39, 82.16, 81.92, 81.46, 81.69, 81.46, 80.52, 80.52, 80.75, 80.28, 81.46, 81.69, 81.46, 81.46, 81.46, 80.99, 80.99, 80.52, 79.81, 80.28, 80.52, 81.22, 80.28, 80.28, 80.28, 79.81, 79.81, 79.81, 79.34, 79.81, 79.58, 79.81, 79.81, 79.81, 79.58, 79.81, 79.81]\n",
      "[79.34, 81.69, 82.39, 83.57, 82.39, 82.16, 82.63, 82.39, 82.16, 81.92, 81.46, 81.69, 81.46, 80.52, 80.52, 80.75, 80.28, 81.46, 81.69, 81.46, 81.46, 81.46, 80.99, 80.99, 80.52, 79.81, 80.28, 80.52, 81.22, 80.28, 80.28, 80.28, 79.81, 79.81, 79.81, 79.34, 79.81, 79.58, 79.81, 79.81, 79.81, 79.58, 79.81, 79.81, 79.81]\n",
      "[79.34, 81.69, 82.39, 83.57, 82.39, 82.16, 82.63, 82.39, 82.16, 81.92, 81.46, 81.69, 81.46, 80.52, 80.52, 80.75, 80.28, 81.46, 81.69, 81.46, 81.46, 81.46, 80.99, 80.99, 80.52, 79.81, 80.28, 80.52, 81.22, 80.28, 80.28, 80.28, 79.81, 79.81, 79.81, 79.34, 79.81, 79.58, 79.81, 79.81, 79.81, 79.58, 79.81, 79.81, 79.81, 79.11]\n",
      "[79.34, 81.69, 82.39, 83.57, 82.39, 82.16, 82.63, 82.39, 82.16, 81.92, 81.46, 81.69, 81.46, 80.52, 80.52, 80.75, 80.28, 81.46, 81.69, 81.46, 81.46, 81.46, 80.99, 80.99, 80.52, 79.81, 80.28, 80.52, 81.22, 80.28, 80.28, 80.28, 79.81, 79.81, 79.81, 79.34, 79.81, 79.58, 79.81, 79.81, 79.81, 79.58, 79.81, 79.81, 79.81, 79.11, 79.81]\n",
      "[79.34, 81.69, 82.39, 83.57, 82.39, 82.16, 82.63, 82.39, 82.16, 81.92, 81.46, 81.69, 81.46, 80.52, 80.52, 80.75, 80.28, 81.46, 81.69, 81.46, 81.46, 81.46, 80.99, 80.99, 80.52, 79.81, 80.28, 80.52, 81.22, 80.28, 80.28, 80.28, 79.81, 79.81, 79.81, 79.34, 79.81, 79.58, 79.81, 79.81, 79.81, 79.58, 79.81, 79.81, 79.81, 79.11, 79.81, 79.11]\n",
      "[79.34, 81.69, 82.39, 83.57, 82.39, 82.16, 82.63, 82.39, 82.16, 81.92, 81.46, 81.69, 81.46, 80.52, 80.52, 80.75, 80.28, 81.46, 81.69, 81.46, 81.46, 81.46, 80.99, 80.99, 80.52, 79.81, 80.28, 80.52, 81.22, 80.28, 80.28, 80.28, 79.81, 79.81, 79.81, 79.34, 79.81, 79.58, 79.81, 79.81, 79.81, 79.58, 79.81, 79.81, 79.81, 79.11, 79.81, 79.11, 79.34]\n",
      "[79.34, 81.69, 82.39, 83.57, 82.39, 82.16, 82.63, 82.39, 82.16, 81.92, 81.46, 81.69, 81.46, 80.52, 80.52, 80.75, 80.28, 81.46, 81.69, 81.46, 81.46, 81.46, 80.99, 80.99, 80.52, 79.81, 80.28, 80.52, 81.22, 80.28, 80.28, 80.28, 79.81, 79.81, 79.81, 79.34, 79.81, 79.58, 79.81, 79.81, 79.81, 79.58, 79.81, 79.81, 79.81, 79.11, 79.81, 79.11, 79.34, 79.11]\n",
      "[79.34, 81.69, 82.39, 83.57, 82.39, 82.16, 82.63, 82.39, 82.16, 81.92, 81.46, 81.69, 81.46, 80.52, 80.52, 80.75, 80.28, 81.46, 81.69, 81.46, 81.46, 81.46, 80.99, 80.99, 80.52, 79.81, 80.28, 80.52, 81.22, 80.28, 80.28, 80.28, 79.81, 79.81, 79.81, 79.34, 79.81, 79.58, 79.81, 79.81, 79.81, 79.58, 79.81, 79.81, 79.81, 79.11, 79.81, 79.11, 79.34, 79.11, 79.34]\n",
      "[79.34, 81.69, 82.39, 83.57, 82.39, 82.16, 82.63, 82.39, 82.16, 81.92, 81.46, 81.69, 81.46, 80.52, 80.52, 80.75, 80.28, 81.46, 81.69, 81.46, 81.46, 81.46, 80.99, 80.99, 80.52, 79.81, 80.28, 80.52, 81.22, 80.28, 80.28, 80.28, 79.81, 79.81, 79.81, 79.34, 79.81, 79.58, 79.81, 79.81, 79.81, 79.58, 79.81, 79.81, 79.81, 79.11, 79.81, 79.11, 79.34, 79.11, 79.34, 79.11]\n",
      "[79.34, 81.69, 82.39, 83.57, 82.39, 82.16, 82.63, 82.39, 82.16, 81.92, 81.46, 81.69, 81.46, 80.52, 80.52, 80.75, 80.28, 81.46, 81.69, 81.46, 81.46, 81.46, 80.99, 80.99, 80.52, 79.81, 80.28, 80.52, 81.22, 80.28, 80.28, 80.28, 79.81, 79.81, 79.81, 79.34, 79.81, 79.58, 79.81, 79.81, 79.81, 79.58, 79.81, 79.81, 79.81, 79.11, 79.81, 79.11, 79.34, 79.11, 79.34, 79.11, 79.11]\n",
      "[79.34, 81.69, 82.39, 83.57, 82.39, 82.16, 82.63, 82.39, 82.16, 81.92, 81.46, 81.69, 81.46, 80.52, 80.52, 80.75, 80.28, 81.46, 81.69, 81.46, 81.46, 81.46, 80.99, 80.99, 80.52, 79.81, 80.28, 80.52, 81.22, 80.28, 80.28, 80.28, 79.81, 79.81, 79.81, 79.34, 79.81, 79.58, 79.81, 79.81, 79.81, 79.58, 79.81, 79.81, 79.81, 79.11, 79.81, 79.11, 79.34, 79.11, 79.34, 79.11, 79.11, 79.11]\n",
      "[79.34, 81.69, 82.39, 83.57, 82.39, 82.16, 82.63, 82.39, 82.16, 81.92, 81.46, 81.69, 81.46, 80.52, 80.52, 80.75, 80.28, 81.46, 81.69, 81.46, 81.46, 81.46, 80.99, 80.99, 80.52, 79.81, 80.28, 80.52, 81.22, 80.28, 80.28, 80.28, 79.81, 79.81, 79.81, 79.34, 79.81, 79.58, 79.81, 79.81, 79.81, 79.58, 79.81, 79.81, 79.81, 79.11, 79.81, 79.11, 79.34, 79.11, 79.34, 79.11, 79.11, 79.11, 79.11]\n",
      "[79.34, 81.69, 82.39, 83.57, 82.39, 82.16, 82.63, 82.39, 82.16, 81.92, 81.46, 81.69, 81.46, 80.52, 80.52, 80.75, 80.28, 81.46, 81.69, 81.46, 81.46, 81.46, 80.99, 80.99, 80.52, 79.81, 80.28, 80.52, 81.22, 80.28, 80.28, 80.28, 79.81, 79.81, 79.81, 79.34, 79.81, 79.58, 79.81, 79.81, 79.81, 79.58, 79.81, 79.81, 79.81, 79.11, 79.81, 79.11, 79.34, 79.11, 79.34, 79.11, 79.11, 79.11, 79.11, 78.64]\n",
      "[79.34, 81.69, 82.39, 83.57, 82.39, 82.16, 82.63, 82.39, 82.16, 81.92, 81.46, 81.69, 81.46, 80.52, 80.52, 80.75, 80.28, 81.46, 81.69, 81.46, 81.46, 81.46, 80.99, 80.99, 80.52, 79.81, 80.28, 80.52, 81.22, 80.28, 80.28, 80.28, 79.81, 79.81, 79.81, 79.34, 79.81, 79.58, 79.81, 79.81, 79.81, 79.58, 79.81, 79.81, 79.81, 79.11, 79.81, 79.11, 79.34, 79.11, 79.34, 79.11, 79.11, 79.11, 79.11, 78.64, 78.64]\n",
      "[79.34, 81.69, 82.39, 83.57, 82.39, 82.16, 82.63, 82.39, 82.16, 81.92, 81.46, 81.69, 81.46, 80.52, 80.52, 80.75, 80.28, 81.46, 81.69, 81.46, 81.46, 81.46, 80.99, 80.99, 80.52, 79.81, 80.28, 80.52, 81.22, 80.28, 80.28, 80.28, 79.81, 79.81, 79.81, 79.34, 79.81, 79.58, 79.81, 79.81, 79.81, 79.58, 79.81, 79.81, 79.81, 79.11, 79.81, 79.11, 79.34, 79.11, 79.34, 79.11, 79.11, 79.11, 79.11, 78.64, 78.64, 78.64]\n"
     ]
    },
    {
     "name": "stdout",
     "output_type": "stream",
     "text": [
      "[79.34, 81.69, 82.39, 83.57, 82.39, 82.16, 82.63, 82.39, 82.16, 81.92, 81.46, 81.69, 81.46, 80.52, 80.52, 80.75, 80.28, 81.46, 81.69, 81.46, 81.46, 81.46, 80.99, 80.99, 80.52, 79.81, 80.28, 80.52, 81.22, 80.28, 80.28, 80.28, 79.81, 79.81, 79.81, 79.34, 79.81, 79.58, 79.81, 79.81, 79.81, 79.58, 79.81, 79.81, 79.81, 79.11, 79.81, 79.11, 79.34, 79.11, 79.34, 79.11, 79.11, 79.11, 79.11, 78.64, 78.64, 78.64, 79.11]\n",
      "[79.34, 81.69, 82.39, 83.57, 82.39, 82.16, 82.63, 82.39, 82.16, 81.92, 81.46, 81.69, 81.46, 80.52, 80.52, 80.75, 80.28, 81.46, 81.69, 81.46, 81.46, 81.46, 80.99, 80.99, 80.52, 79.81, 80.28, 80.52, 81.22, 80.28, 80.28, 80.28, 79.81, 79.81, 79.81, 79.34, 79.81, 79.58, 79.81, 79.81, 79.81, 79.58, 79.81, 79.81, 79.81, 79.11, 79.81, 79.11, 79.34, 79.11, 79.34, 79.11, 79.11, 79.11, 79.11, 78.64, 78.64, 78.64, 79.11, 79.11]\n",
      "[79.34, 81.69, 82.39, 83.57, 82.39, 82.16, 82.63, 82.39, 82.16, 81.92, 81.46, 81.69, 81.46, 80.52, 80.52, 80.75, 80.28, 81.46, 81.69, 81.46, 81.46, 81.46, 80.99, 80.99, 80.52, 79.81, 80.28, 80.52, 81.22, 80.28, 80.28, 80.28, 79.81, 79.81, 79.81, 79.34, 79.81, 79.58, 79.81, 79.81, 79.81, 79.58, 79.81, 79.81, 79.81, 79.11, 79.81, 79.11, 79.34, 79.11, 79.34, 79.11, 79.11, 79.11, 79.11, 78.64, 78.64, 78.64, 79.11, 79.11, 79.34]\n",
      "[79.34, 81.69, 82.39, 83.57, 82.39, 82.16, 82.63, 82.39, 82.16, 81.92, 81.46, 81.69, 81.46, 80.52, 80.52, 80.75, 80.28, 81.46, 81.69, 81.46, 81.46, 81.46, 80.99, 80.99, 80.52, 79.81, 80.28, 80.52, 81.22, 80.28, 80.28, 80.28, 79.81, 79.81, 79.81, 79.34, 79.81, 79.58, 79.81, 79.81, 79.81, 79.58, 79.81, 79.81, 79.81, 79.11, 79.81, 79.11, 79.34, 79.11, 79.34, 79.11, 79.11, 79.11, 79.11, 78.64, 78.64, 78.64, 79.11, 79.11, 79.34, 79.34]\n",
      "[79.34, 81.69, 82.39, 83.57, 82.39, 82.16, 82.63, 82.39, 82.16, 81.92, 81.46, 81.69, 81.46, 80.52, 80.52, 80.75, 80.28, 81.46, 81.69, 81.46, 81.46, 81.46, 80.99, 80.99, 80.52, 79.81, 80.28, 80.52, 81.22, 80.28, 80.28, 80.28, 79.81, 79.81, 79.81, 79.34, 79.81, 79.58, 79.81, 79.81, 79.81, 79.58, 79.81, 79.81, 79.81, 79.11, 79.81, 79.11, 79.34, 79.11, 79.34, 79.11, 79.11, 79.11, 79.11, 78.64, 78.64, 78.64, 79.11, 79.11, 79.34, 79.34, 79.58]\n",
      "[79.34, 81.69, 82.39, 83.57, 82.39, 82.16, 82.63, 82.39, 82.16, 81.92, 81.46, 81.69, 81.46, 80.52, 80.52, 80.75, 80.28, 81.46, 81.69, 81.46, 81.46, 81.46, 80.99, 80.99, 80.52, 79.81, 80.28, 80.52, 81.22, 80.28, 80.28, 80.28, 79.81, 79.81, 79.81, 79.34, 79.81, 79.58, 79.81, 79.81, 79.81, 79.58, 79.81, 79.81, 79.81, 79.11, 79.81, 79.11, 79.34, 79.11, 79.34, 79.11, 79.11, 79.11, 79.11, 78.64, 78.64, 78.64, 79.11, 79.11, 79.34, 79.34, 79.58, 79.34]\n",
      "[79.34, 81.69, 82.39, 83.57, 82.39, 82.16, 82.63, 82.39, 82.16, 81.92, 81.46, 81.69, 81.46, 80.52, 80.52, 80.75, 80.28, 81.46, 81.69, 81.46, 81.46, 81.46, 80.99, 80.99, 80.52, 79.81, 80.28, 80.52, 81.22, 80.28, 80.28, 80.28, 79.81, 79.81, 79.81, 79.34, 79.81, 79.58, 79.81, 79.81, 79.81, 79.58, 79.81, 79.81, 79.81, 79.11, 79.81, 79.11, 79.34, 79.11, 79.34, 79.11, 79.11, 79.11, 79.11, 78.64, 78.64, 78.64, 79.11, 79.11, 79.34, 79.34, 79.58, 79.34, 79.34]\n",
      "[79.34, 81.69, 82.39, 83.57, 82.39, 82.16, 82.63, 82.39, 82.16, 81.92, 81.46, 81.69, 81.46, 80.52, 80.52, 80.75, 80.28, 81.46, 81.69, 81.46, 81.46, 81.46, 80.99, 80.99, 80.52, 79.81, 80.28, 80.52, 81.22, 80.28, 80.28, 80.28, 79.81, 79.81, 79.81, 79.34, 79.81, 79.58, 79.81, 79.81, 79.81, 79.58, 79.81, 79.81, 79.81, 79.11, 79.81, 79.11, 79.34, 79.11, 79.34, 79.11, 79.11, 79.11, 79.11, 78.64, 78.64, 78.64, 79.11, 79.11, 79.34, 79.34, 79.58, 79.34, 79.34, 79.34]\n",
      "[79.34, 81.69, 82.39, 83.57, 82.39, 82.16, 82.63, 82.39, 82.16, 81.92, 81.46, 81.69, 81.46, 80.52, 80.52, 80.75, 80.28, 81.46, 81.69, 81.46, 81.46, 81.46, 80.99, 80.99, 80.52, 79.81, 80.28, 80.52, 81.22, 80.28, 80.28, 80.28, 79.81, 79.81, 79.81, 79.34, 79.81, 79.58, 79.81, 79.81, 79.81, 79.58, 79.81, 79.81, 79.81, 79.11, 79.81, 79.11, 79.34, 79.11, 79.34, 79.11, 79.11, 79.11, 79.11, 78.64, 78.64, 78.64, 79.11, 79.11, 79.34, 79.34, 79.58, 79.34, 79.34, 79.34, 79.34]\n",
      "[79.34, 81.69, 82.39, 83.57, 82.39, 82.16, 82.63, 82.39, 82.16, 81.92, 81.46, 81.69, 81.46, 80.52, 80.52, 80.75, 80.28, 81.46, 81.69, 81.46, 81.46, 81.46, 80.99, 80.99, 80.52, 79.81, 80.28, 80.52, 81.22, 80.28, 80.28, 80.28, 79.81, 79.81, 79.81, 79.34, 79.81, 79.58, 79.81, 79.81, 79.81, 79.58, 79.81, 79.81, 79.81, 79.11, 79.81, 79.11, 79.34, 79.11, 79.34, 79.11, 79.11, 79.11, 79.11, 78.64, 78.64, 78.64, 79.11, 79.11, 79.34, 79.34, 79.58, 79.34, 79.34, 79.34, 79.34, 79.34]\n",
      "[79.34, 81.69, 82.39, 83.57, 82.39, 82.16, 82.63, 82.39, 82.16, 81.92, 81.46, 81.69, 81.46, 80.52, 80.52, 80.75, 80.28, 81.46, 81.69, 81.46, 81.46, 81.46, 80.99, 80.99, 80.52, 79.81, 80.28, 80.52, 81.22, 80.28, 80.28, 80.28, 79.81, 79.81, 79.81, 79.34, 79.81, 79.58, 79.81, 79.81, 79.81, 79.58, 79.81, 79.81, 79.81, 79.11, 79.81, 79.11, 79.34, 79.11, 79.34, 79.11, 79.11, 79.11, 79.11, 78.64, 78.64, 78.64, 79.11, 79.11, 79.34, 79.34, 79.58, 79.34, 79.34, 79.34, 79.34, 79.34, 79.34]\n"
     ]
    }
   ],
   "source": [
    "empty_list =[]\n",
    "num = list(range(1,70))\n",
    "for k in range(1,70):\n",
    "    knn = KNeighborsClassifier( n_neighbors= k)\n",
    "    knn.fit(train_x,train_y)\n",
    "    knn_pred = knn.predict(test_x)\n",
    "    tab_knn = confusion_matrix(knn_pred,test_y)\n",
    "    acc = tab_knn.diagonal().sum()*100/tab_knn.sum()\n",
    "    acc = np.round(acc,2)\n",
    "    empty_list.append(acc)\n",
    "    print(empty_list)"
   ]
  },
  {
   "cell_type": "code",
   "execution_count": 17,
   "metadata": {},
   "outputs": [],
   "source": [
    "import matplotlib.pyplot as plt"
   ]
  },
  {
   "cell_type": "code",
   "execution_count": 18,
   "metadata": {},
   "outputs": [
    {
     "data": {
      "image/png": "[encoded data removed]",
      "text/plain": [
       "<Figure size 576x576 with 1 Axes>"
      ]
     },
     "metadata": {
      "needs_background": "light"
     },
     "output_type": "display_data"
    }
   ],
   "source": [
    "plt.figure(figsize=(8,8))\n",
    "plt.plot(num ,empty_list, color ='r',marker ='*')\n",
    "plt.grid()\n",
    "\n"
   ]
  },
  {
   "cell_type": "code",
   "execution_count": null,
   "metadata": {},
   "outputs": [],
   "source": []
  }
 ],
 "metadata": {
  "kernelspec": {
   "display_name": "Python 3",
   "language": "python",
   "name": "python3"
  },
  "language_info": {
   "codemirror_mode": {
    "name": "ipython",
    "version": 3
   },
   "file_extension": ".py",
   "mimetype": "text/x-python",
   "name": "python",
   "nbconvert_exporter": "python",
   "pygments_lexer": "ipython3",
   "version": "3.8.5"
  }
 },
 "nbformat": 4,
 "nbformat_minor": 4
}
